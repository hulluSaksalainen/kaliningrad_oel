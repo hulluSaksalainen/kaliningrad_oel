{
 "cells": [
  {
   "cell_type": "markdown",
   "id": "bd4db4c1",
   "metadata": {},
   "source": [
    "### Ölquellen in der Region Kaliningrad\n",
    "| Ölquelle/Feld | Typ | Ungefähre Position | Entdeckung/Start Produktion | Fördermenge (geschätzt) | Betreiber | Bemerkungen |\n",
    "|---------------|-----|---------------------|-----------------------------|--------------------------|-----------|-------------|\n",
    "| **Kravtsovskoye (auch D-6)** | Offshore-Plattform | Ca. 22 km westlich der Küste bei Primorsk (Koordinaten: 54°40'N 19°20'E, im Baltischen Meer) | Entdeckt 1983, Produktion seit 2004 | 9,1 Mio. Tonnen förderbar; aktuelle Produktion ca. 600.000 Tonnen/Jahr (Stand 2007, rückläufig) | Lukoil (Lukoil-Kaliningradmorneft) | Wichtigstes Offshore-Feld. Verbunden per 47 km langer Unterwasser-Pipeline mit dem Landterminal in Romanovo. Umweltbedenken wegen Nähe zur Kurischen Nehrung (UNESCO-Weltkulturerbe). |\n",
    "| **Krasnoborskiy** | Onshore-Feld | Südwesten der Oblast, nahe der polnischen Grenze (ca. bei Krasnoznamensk, Koordinaten: 54°39'N 21°10'E) | Entdeckt 1968, Produktion seit 1975 | Frühe Förderung ca. 100.000 Tonnen/Jahr; heute erschöpft (Wasseraustritt >80%) | Lukoil | Erstes kommerzielles Feld der Region. Teil der initialen Onshore-Entwicklung. |\n",
    "| **Gusevskaya** | Onshore-Feld | Südosten der Oblast, nahe der litauischen Grenze (bei Gussew, Koordinaten: 54°36'N 22°10'E) | Entdeckt 1967 (erste Ölprobe) | Gering, ca. 50.000–100.000 Tonnen insgesamt | Frühe sowjetische Betreiber, später Lukoil | Pionierfeld; markierte den Start der Ölförderung in Kaliningrad. Heute nicht mehr aktiv. |\n",
    "| **Weitere Offshore-Felder (z. B. in Block D-6)** | Offshore | Südliches Baltisches Meer, ca. 20–30 km vor der Küste (allg. Koordinaten: 54°30'–55°00'N 19°00'–19°30'E) | Planung seit 2000er, teilweise in Entwicklung | Potenzial für 30–35 Jahre Förderung; Gesamtvorräte im russischen Sektor des Baltikums: >100 Mio. Tonnen | Lukoil | Umfasst Erweiterungen von D-6; Fokus auf tiefe Bohrlöcher. Keine detaillierten Karten öffentlich, aber Pipeline-Netz zum Izhevsky-Terminal (Kapazität 4 Mio. Tonnen/Jahr). |\n",
    "\n",
    "#### Zusätzliche Infos zur Region\n",
    "- **Historischer Kontext**: Die Ölförderung begann in den 1960er-Jahren mit Onshore-Feldern, boomte in den 1970er/80er-Jahren, aber Onshore-Ressourcen sind weitgehend erschöpft. Seit den 2000er-Jahren verschiebt sich der Fokus auf Offshore (Baltikum-Sektor), wo Lukoil über 20 Jahre aktiv ist. Die Oblast produziert ca. 1–2% des russischen Öls insgesamt.\n",
    "- **Wirtschaftliche Bedeutung**: Öl macht ca. 10–15% der regionalen Wirtschaft aus. Export über den Hafen Primorsk (Ölterminal). Potenzial für Gas (Gazprom), aber Fokus liegt auf Öl.\n"
   ]
  },
  {
   "cell_type": "code",
   "execution_count": 35,
   "id": "a5eca235",
   "metadata": {},
   "outputs": [
    {
     "data": {
      "application/vnd.microsoft.datawrangler.viewer.v0+json": {
       "columns": [
        {
         "name": "index",
         "rawType": "int64",
         "type": "integer"
        },
        {
         "name": "name",
         "rawType": "object",
         "type": "string"
        },
        {
         "name": "coordinates",
         "rawType": "object",
         "type": "unknown"
        }
       ],
       "ref": "f2b8f295-e39f-4b9a-b61f-6d005afa72aa",
       "rows": [
        [
         "0",
         "Kravtsovskoye-Feld (D-6)",
         "[19.5, 54.65]"
        ],
        [
         "1",
         "Gusev Onshore-Feld",
         "[22.2, 54.6]"
        ],
        [
         "2",
         "Nesterov Onshore-Feld",
         "[22.57, 54.63]"
        ],
        [
         "3",
         "Chernyakhovsk Onshore-Feld",
         "[21.83, 54.63]"
        ]
       ],
       "shape": {
        "columns": 2,
        "rows": 4
       }
      },
      "text/html": [
       "<div>\n",
       "<style scoped>\n",
       "    .dataframe tbody tr th:only-of-type {\n",
       "        vertical-align: middle;\n",
       "    }\n",
       "\n",
       "    .dataframe tbody tr th {\n",
       "        vertical-align: top;\n",
       "    }\n",
       "\n",
       "    .dataframe thead th {\n",
       "        text-align: right;\n",
       "    }\n",
       "</style>\n",
       "<table border=\"1\" class=\"dataframe\">\n",
       "  <thead>\n",
       "    <tr style=\"text-align: right;\">\n",
       "      <th></th>\n",
       "      <th>name</th>\n",
       "      <th>coordinates</th>\n",
       "    </tr>\n",
       "  </thead>\n",
       "  <tbody>\n",
       "    <tr>\n",
       "      <th>0</th>\n",
       "      <td>Kravtsovskoye-Feld (D-6)</td>\n",
       "      <td>[19.5, 54.65]</td>\n",
       "    </tr>\n",
       "    <tr>\n",
       "      <th>1</th>\n",
       "      <td>Gusev Onshore-Feld</td>\n",
       "      <td>[22.2, 54.6]</td>\n",
       "    </tr>\n",
       "    <tr>\n",
       "      <th>2</th>\n",
       "      <td>Nesterov Onshore-Feld</td>\n",
       "      <td>[22.57, 54.63]</td>\n",
       "    </tr>\n",
       "    <tr>\n",
       "      <th>3</th>\n",
       "      <td>Chernyakhovsk Onshore-Feld</td>\n",
       "      <td>[21.83, 54.63]</td>\n",
       "    </tr>\n",
       "  </tbody>\n",
       "</table>\n",
       "</div>"
      ],
      "text/plain": [
       "                         name     coordinates\n",
       "0    Kravtsovskoye-Feld (D-6)   [19.5, 54.65]\n",
       "1          Gusev Onshore-Feld    [22.2, 54.6]\n",
       "2       Nesterov Onshore-Feld  [22.57, 54.63]\n",
       "3  Chernyakhovsk Onshore-Feld  [21.83, 54.63]"
      ]
     },
     "metadata": {},
     "output_type": "display_data"
    },
    {
     "data": {
      "application/vnd.plotly.v1+json": {
       "config": {
        "plotlyServerURL": "https://plot.ly"
       },
       "data": [
        {
         "hoverinfo": "text",
         "lat": {
          "bdata": "MzMzMzNTS0DNzMzMzExLQHE9CtejUEtAcT0K16NQS0A=",
          "dtype": "f8"
         },
         "lon": {
          "bdata": "AAAAAACAM0AzMzMzMzM2QFK4HoXrkTZAFK5H4XrUNUA=",
          "dtype": "f8"
         },
         "marker": {
          "color": "orange",
          "size": 10,
          "symbol": "circle"
         },
         "mode": "markers",
         "text": [
          "Kravtsovskoye-Feld (D-6)",
          "Gusev Onshore-Feld",
          "Nesterov Onshore-Feld",
          "Chernyakhovsk Onshore-Feld"
         ],
         "type": "scattergeo"
        }
       ],
       "layout": {
        "geo": {
         "landcolor": "rgb(217, 217, 217)",
         "lataxis": {
          "range": [
           52,
           57
          ]
         },
         "lonaxis": {
          "range": [
           18,
           25
          ]
         },
         "projection": {
          "type": "mercator"
         },
         "showland": true
        },
        "height": 800,
        "template": {
         "data": {
          "bar": [
           {
            "error_x": {
             "color": "#2a3f5f"
            },
            "error_y": {
             "color": "#2a3f5f"
            },
            "marker": {
             "line": {
              "color": "#E5ECF6",
              "width": 0.5
             },
             "pattern": {
              "fillmode": "overlay",
              "size": 10,
              "solidity": 0.2
             }
            },
            "type": "bar"
           }
          ],
          "barpolar": [
           {
            "marker": {
             "line": {
              "color": "#E5ECF6",
              "width": 0.5
             },
             "pattern": {
              "fillmode": "overlay",
              "size": 10,
              "solidity": 0.2
             }
            },
            "type": "barpolar"
           }
          ],
          "carpet": [
           {
            "aaxis": {
             "endlinecolor": "#2a3f5f",
             "gridcolor": "white",
             "linecolor": "white",
             "minorgridcolor": "white",
             "startlinecolor": "#2a3f5f"
            },
            "baxis": {
             "endlinecolor": "#2a3f5f",
             "gridcolor": "white",
             "linecolor": "white",
             "minorgridcolor": "white",
             "startlinecolor": "#2a3f5f"
            },
            "type": "carpet"
           }
          ],
          "choropleth": [
           {
            "colorbar": {
             "outlinewidth": 0,
             "ticks": ""
            },
            "type": "choropleth"
           }
          ],
          "contour": [
           {
            "colorbar": {
             "outlinewidth": 0,
             "ticks": ""
            },
            "colorscale": [
             [
              0,
              "#0d0887"
             ],
             [
              0.1111111111111111,
              "#46039f"
             ],
             [
              0.2222222222222222,
              "#7201a8"
             ],
             [
              0.3333333333333333,
              "#9c179e"
             ],
             [
              0.4444444444444444,
              "#bd3786"
             ],
             [
              0.5555555555555556,
              "#d8576b"
             ],
             [
              0.6666666666666666,
              "#ed7953"
             ],
             [
              0.7777777777777778,
              "#fb9f3a"
             ],
             [
              0.8888888888888888,
              "#fdca26"
             ],
             [
              1,
              "#f0f921"
             ]
            ],
            "type": "contour"
           }
          ],
          "contourcarpet": [
           {
            "colorbar": {
             "outlinewidth": 0,
             "ticks": ""
            },
            "type": "contourcarpet"
           }
          ],
          "heatmap": [
           {
            "colorbar": {
             "outlinewidth": 0,
             "ticks": ""
            },
            "colorscale": [
             [
              0,
              "#0d0887"
             ],
             [
              0.1111111111111111,
              "#46039f"
             ],
             [
              0.2222222222222222,
              "#7201a8"
             ],
             [
              0.3333333333333333,
              "#9c179e"
             ],
             [
              0.4444444444444444,
              "#bd3786"
             ],
             [
              0.5555555555555556,
              "#d8576b"
             ],
             [
              0.6666666666666666,
              "#ed7953"
             ],
             [
              0.7777777777777778,
              "#fb9f3a"
             ],
             [
              0.8888888888888888,
              "#fdca26"
             ],
             [
              1,
              "#f0f921"
             ]
            ],
            "type": "heatmap"
           }
          ],
          "histogram": [
           {
            "marker": {
             "pattern": {
              "fillmode": "overlay",
              "size": 10,
              "solidity": 0.2
             }
            },
            "type": "histogram"
           }
          ],
          "histogram2d": [
           {
            "colorbar": {
             "outlinewidth": 0,
             "ticks": ""
            },
            "colorscale": [
             [
              0,
              "#0d0887"
             ],
             [
              0.1111111111111111,
              "#46039f"
             ],
             [
              0.2222222222222222,
              "#7201a8"
             ],
             [
              0.3333333333333333,
              "#9c179e"
             ],
             [
              0.4444444444444444,
              "#bd3786"
             ],
             [
              0.5555555555555556,
              "#d8576b"
             ],
             [
              0.6666666666666666,
              "#ed7953"
             ],
             [
              0.7777777777777778,
              "#fb9f3a"
             ],
             [
              0.8888888888888888,
              "#fdca26"
             ],
             [
              1,
              "#f0f921"
             ]
            ],
            "type": "histogram2d"
           }
          ],
          "histogram2dcontour": [
           {
            "colorbar": {
             "outlinewidth": 0,
             "ticks": ""
            },
            "colorscale": [
             [
              0,
              "#0d0887"
             ],
             [
              0.1111111111111111,
              "#46039f"
             ],
             [
              0.2222222222222222,
              "#7201a8"
             ],
             [
              0.3333333333333333,
              "#9c179e"
             ],
             [
              0.4444444444444444,
              "#bd3786"
             ],
             [
              0.5555555555555556,
              "#d8576b"
             ],
             [
              0.6666666666666666,
              "#ed7953"
             ],
             [
              0.7777777777777778,
              "#fb9f3a"
             ],
             [
              0.8888888888888888,
              "#fdca26"
             ],
             [
              1,
              "#f0f921"
             ]
            ],
            "type": "histogram2dcontour"
           }
          ],
          "mesh3d": [
           {
            "colorbar": {
             "outlinewidth": 0,
             "ticks": ""
            },
            "type": "mesh3d"
           }
          ],
          "parcoords": [
           {
            "line": {
             "colorbar": {
              "outlinewidth": 0,
              "ticks": ""
             }
            },
            "type": "parcoords"
           }
          ],
          "pie": [
           {
            "automargin": true,
            "type": "pie"
           }
          ],
          "scatter": [
           {
            "fillpattern": {
             "fillmode": "overlay",
             "size": 10,
             "solidity": 0.2
            },
            "type": "scatter"
           }
          ],
          "scatter3d": [
           {
            "line": {
             "colorbar": {
              "outlinewidth": 0,
              "ticks": ""
             }
            },
            "marker": {
             "colorbar": {
              "outlinewidth": 0,
              "ticks": ""
             }
            },
            "type": "scatter3d"
           }
          ],
          "scattercarpet": [
           {
            "marker": {
             "colorbar": {
              "outlinewidth": 0,
              "ticks": ""
             }
            },
            "type": "scattercarpet"
           }
          ],
          "scattergeo": [
           {
            "marker": {
             "colorbar": {
              "outlinewidth": 0,
              "ticks": ""
             }
            },
            "type": "scattergeo"
           }
          ],
          "scattergl": [
           {
            "marker": {
             "colorbar": {
              "outlinewidth": 0,
              "ticks": ""
             }
            },
            "type": "scattergl"
           }
          ],
          "scattermap": [
           {
            "marker": {
             "colorbar": {
              "outlinewidth": 0,
              "ticks": ""
             }
            },
            "type": "scattermap"
           }
          ],
          "scattermapbox": [
           {
            "marker": {
             "colorbar": {
              "outlinewidth": 0,
              "ticks": ""
             }
            },
            "type": "scattermapbox"
           }
          ],
          "scatterpolar": [
           {
            "marker": {
             "colorbar": {
              "outlinewidth": 0,
              "ticks": ""
             }
            },
            "type": "scatterpolar"
           }
          ],
          "scatterpolargl": [
           {
            "marker": {
             "colorbar": {
              "outlinewidth": 0,
              "ticks": ""
             }
            },
            "type": "scatterpolargl"
           }
          ],
          "scatterternary": [
           {
            "marker": {
             "colorbar": {
              "outlinewidth": 0,
              "ticks": ""
             }
            },
            "type": "scatterternary"
           }
          ],
          "surface": [
           {
            "colorbar": {
             "outlinewidth": 0,
             "ticks": ""
            },
            "colorscale": [
             [
              0,
              "#0d0887"
             ],
             [
              0.1111111111111111,
              "#46039f"
             ],
             [
              0.2222222222222222,
              "#7201a8"
             ],
             [
              0.3333333333333333,
              "#9c179e"
             ],
             [
              0.4444444444444444,
              "#bd3786"
             ],
             [
              0.5555555555555556,
              "#d8576b"
             ],
             [
              0.6666666666666666,
              "#ed7953"
             ],
             [
              0.7777777777777778,
              "#fb9f3a"
             ],
             [
              0.8888888888888888,
              "#fdca26"
             ],
             [
              1,
              "#f0f921"
             ]
            ],
            "type": "surface"
           }
          ],
          "table": [
           {
            "cells": {
             "fill": {
              "color": "#EBF0F8"
             },
             "line": {
              "color": "white"
             }
            },
            "header": {
             "fill": {
              "color": "#C8D4E3"
             },
             "line": {
              "color": "white"
             }
            },
            "type": "table"
           }
          ]
         },
         "layout": {
          "annotationdefaults": {
           "arrowcolor": "#2a3f5f",
           "arrowhead": 0,
           "arrowwidth": 1
          },
          "autotypenumbers": "strict",
          "coloraxis": {
           "colorbar": {
            "outlinewidth": 0,
            "ticks": ""
           }
          },
          "colorscale": {
           "diverging": [
            [
             0,
             "#8e0152"
            ],
            [
             0.1,
             "#c51b7d"
            ],
            [
             0.2,
             "#de77ae"
            ],
            [
             0.3,
             "#f1b6da"
            ],
            [
             0.4,
             "#fde0ef"
            ],
            [
             0.5,
             "#f7f7f7"
            ],
            [
             0.6,
             "#e6f5d0"
            ],
            [
             0.7,
             "#b8e186"
            ],
            [
             0.8,
             "#7fbc41"
            ],
            [
             0.9,
             "#4d9221"
            ],
            [
             1,
             "#276419"
            ]
           ],
           "sequential": [
            [
             0,
             "#0d0887"
            ],
            [
             0.1111111111111111,
             "#46039f"
            ],
            [
             0.2222222222222222,
             "#7201a8"
            ],
            [
             0.3333333333333333,
             "#9c179e"
            ],
            [
             0.4444444444444444,
             "#bd3786"
            ],
            [
             0.5555555555555556,
             "#d8576b"
            ],
            [
             0.6666666666666666,
             "#ed7953"
            ],
            [
             0.7777777777777778,
             "#fb9f3a"
            ],
            [
             0.8888888888888888,
             "#fdca26"
            ],
            [
             1,
             "#f0f921"
            ]
           ],
           "sequentialminus": [
            [
             0,
             "#0d0887"
            ],
            [
             0.1111111111111111,
             "#46039f"
            ],
            [
             0.2222222222222222,
             "#7201a8"
            ],
            [
             0.3333333333333333,
             "#9c179e"
            ],
            [
             0.4444444444444444,
             "#bd3786"
            ],
            [
             0.5555555555555556,
             "#d8576b"
            ],
            [
             0.6666666666666666,
             "#ed7953"
            ],
            [
             0.7777777777777778,
             "#fb9f3a"
            ],
            [
             0.8888888888888888,
             "#fdca26"
            ],
            [
             1,
             "#f0f921"
            ]
           ]
          },
          "colorway": [
           "#636efa",
           "#EF553B",
           "#00cc96",
           "#ab63fa",
           "#FFA15A",
           "#19d3f3",
           "#FF6692",
           "#B6E880",
           "#FF97FF",
           "#FECB52"
          ],
          "font": {
           "color": "#2a3f5f"
          },
          "geo": {
           "bgcolor": "white",
           "lakecolor": "white",
           "landcolor": "#E5ECF6",
           "showlakes": true,
           "showland": true,
           "subunitcolor": "white"
          },
          "hoverlabel": {
           "align": "left"
          },
          "hovermode": "closest",
          "mapbox": {
           "style": "light"
          },
          "paper_bgcolor": "white",
          "plot_bgcolor": "#E5ECF6",
          "polar": {
           "angularaxis": {
            "gridcolor": "white",
            "linecolor": "white",
            "ticks": ""
           },
           "bgcolor": "#E5ECF6",
           "radialaxis": {
            "gridcolor": "white",
            "linecolor": "white",
            "ticks": ""
           }
          },
          "scene": {
           "xaxis": {
            "backgroundcolor": "#E5ECF6",
            "gridcolor": "white",
            "gridwidth": 2,
            "linecolor": "white",
            "showbackground": true,
            "ticks": "",
            "zerolinecolor": "white"
           },
           "yaxis": {
            "backgroundcolor": "#E5ECF6",
            "gridcolor": "white",
            "gridwidth": 2,
            "linecolor": "white",
            "showbackground": true,
            "ticks": "",
            "zerolinecolor": "white"
           },
           "zaxis": {
            "backgroundcolor": "#E5ECF6",
            "gridcolor": "white",
            "gridwidth": 2,
            "linecolor": "white",
            "showbackground": true,
            "ticks": "",
            "zerolinecolor": "white"
           }
          },
          "shapedefaults": {
           "line": {
            "color": "#2a3f5f"
           }
          },
          "ternary": {
           "aaxis": {
            "gridcolor": "white",
            "linecolor": "white",
            "ticks": ""
           },
           "baxis": {
            "gridcolor": "white",
            "linecolor": "white",
            "ticks": ""
           },
           "bgcolor": "#E5ECF6",
           "caxis": {
            "gridcolor": "white",
            "linecolor": "white",
            "ticks": ""
           }
          },
          "title": {
           "x": 0.05
          },
          "xaxis": {
           "automargin": true,
           "gridcolor": "white",
           "linecolor": "white",
           "ticks": "",
           "title": {
            "standoff": 15
           },
           "zerolinecolor": "white",
           "zerolinewidth": 2
          },
          "yaxis": {
           "automargin": true,
           "gridcolor": "white",
           "linecolor": "white",
           "ticks": "",
           "title": {
            "standoff": 15
           },
           "zerolinecolor": "white",
           "zerolinewidth": 2
          }
         }
        },
        "title": {
         "text": "Ölquellen in der Region Kaliningrad"
        },
        "width": 800
       }
      }
     },
     "metadata": {},
     "output_type": "display_data"
    }
   ],
   "source": [
    "\"\"\" Darstellung der Ölquellen\"\"\"\n",
    "import json\n",
    "import os\n",
    "from pathlib import Path\n",
    "import pandas as pd\n",
    "import plotly.express as px\n",
    "import folium\n",
    "import plotly.graph_objects as go\n",
    "import geopandas as gpd\n",
    "import nbformat\n",
    "\n",
    "import markdown\n",
    "j=json.load(open(\"geoDaten.json\", \"r\", encoding=\"utf-8\"))\n",
    "\n",
    "data = []\n",
    "for feature in j[\"features\"]:\n",
    "    name = feature[\"properties\"][\"name\"]\n",
    "    coordinates = feature[\"geometry\"][\"coordinates\"]\n",
    "    data.append({\"name\": name, \"coordinates\": coordinates})\n",
    "df=pd.DataFrame(data)\n",
    "display(df)\n",
    "# GeoJSON-Datei laden\n",
    "gdf = gpd.read_file(\"geoDaten.json\")\n",
    "\n",
    "# Plotly-Karte erstellen\n",
    "fig = go.Figure(go.Scattergeo(\n",
    "    lon=gdf.geometry.x,\n",
    "    lat=gdf.geometry.y,\n",
    "    text=gdf[\"name\"],\n",
    "    mode = 'markers',\n",
    "    marker=dict(size=10, color=\"orange\", symbol=\"circle\"),\n",
    "    hoverinfo='text'\n",
    "))\n",
    "\n",
    "# Manuelle Begrenzung auf Kaliningrad\n",
    "fig.update_layout(\n",
    "    geo=dict(\n",
    "        projection_type=\"mercator\",\n",
    "        showland=True,\n",
    "        landcolor=\"rgb(217, 217, 217)\",\n",
    "        lonaxis=dict(range=[18.0, 25.0]),\n",
    "        lataxis=dict(range=[52.0, 57.0]),\n",
    "    ),\n",
    "    width = 800,\n",
    "    height = 800,\n",
    "    title=\"Ölquellen in der Region Kaliningrad\",\n",
    ")\n",
    "fig.show()\n",
    "\n",
    "\n",
    "# Mittelpunkt auf Kaliningrad\n",
    "m = folium.Map(location=[54.7, 21.0], zoom_start=8)\n",
    "\n",
    "# Punkte hinzufügen\n",
    "for _, row in gdf.iterrows():\n",
    "    folium.CircleMarker(\n",
    "        location=[row.geometry.y, row.geometry.x],\n",
    "        radius=5,\n",
    "        color='orange',\n",
    "        fill=True,\n",
    "        popup=row[\"name\"]\n",
    "    ).add_to(m)\n",
    "\n",
    "m.save(\"kaliningrad_oelquellen.html\")\n",
    "\n"
   ]
  },
  {
   "cell_type": "code",
   "execution_count": 36,
   "id": "63ef9942",
   "metadata": {},
   "outputs": [
    {
     "name": "stdout",
     "output_type": "stream",
     "text": [
      "Gefundenes Notebook: kaliningrad.ipynb\n"
     ]
    }
   ],
   "source": [
    "\n",
    "\n",
    "def find_notebook(base_dir=\".\"):\n",
    "    base = Path(base_dir)\n",
    "    \n",
    "    # 1. im aktuellen Ordner suchen\n",
    "    ipynb_files = list(base.glob(\"*.ipynb\"))\n",
    "    if ipynb_files:\n",
    "        return ipynb_files[0]\n",
    "    \n",
    "    # 2. rekursiv in Unterverzeichnissen suchen\n",
    "    ipynb_files = list(base.rglob(\"*.ipynb\"))\n",
    "    if ipynb_files:\n",
    "        return ipynb_files[0]\n",
    "    \n",
    "    return None\n",
    "\n",
    "ipynb_path = find_notebook()\n",
    "\n",
    "if not ipynb_path:\n",
    "    raise FileNotFoundError(\"Kein Notebook gefunden!\")\n",
    "else:\n",
    "    print(\"Gefundenes Notebook:\", ipynb_path)\n",
    "\n"
   ]
  },
  {
   "cell_type": "code",
   "execution_count": 38,
   "id": "ff66d20c",
   "metadata": {},
   "outputs": [],
   "source": [
    "# --- 2. Notebook laden ---\n",
    "with open(ipynb_path, \"r\", encoding=\"utf-8\") as f:\n",
    "    nb = nbformat.read(f, as_version=4)\n",
    "\n",
    "# Erste Markdown-Zelle finden\n",
    "first_md_cell = None\n",
    "for cell in nb[\"cells\"]:\n",
    "    if cell[\"cell_type\"] == \"markdown\":\n",
    "        first_md_cell = \"\".join(cell[\"source\"])\n",
    "        break\n",
    "\n",
    "if not first_md_cell:\n",
    "    raise ValueError(\"Keine Markdown-Zelle gefunden!\")\n",
    "\n",
    "# Markdown -> HTML\n",
    "md_html = markdown.markdown(\n",
    "    first_md_cell,\n",
    "    extensions=[\"tables\", \"fenced_code\", \"toc\"]\n",
    ")\n",
    "\n",
    "# --- 3. Karte erzeugen ---\n",
    "m = folium.Map(location=[54.7, 21.0], zoom_start=9, height=\"50%\")\n",
    "\n",
    "for _, row in gdf.iterrows():\n",
    "    folium.Marker(\n",
    "        location=[row.geometry.y, row.geometry.x],\n",
    "        popup=row[\"name\"],\n",
    "        icon=folium.Icon(color=\"blue\", icon=\"flag\", prefix=\"fa\")\n",
    "    ).add_to(m)\n",
    "\n",
    "# Karte als HTML-Snippet laden\n",
    "temp_map = \"_map_temp.html\"\n",
    "m.save(temp_map)\n",
    "with open(temp_map, \"r\", encoding=\"utf-8\") as f:\n",
    "    map_html = f.read()\n",
    "os.remove(temp_map)\n",
    "\n",
    "# --- 4. Endgültige HTML-Seite ---\n",
    "full_html = f\"\"\"\n",
    "<!DOCTYPE html>\n",
    "<html>\n",
    "<head>\n",
    "<meta charset=\"utf-8\">\n",
    "<title>Kaliningrad Ölquellen</title>\n",
    "<style>\n",
    "  body, html {{\n",
    "    margin: 0;\n",
    "    padding: 0;\n",
    "    height: 100%;\n",
    "  }}\n",
    "  #top {{\n",
    "    height: 50%;\n",
    "    overflow-y: auto;\n",
    "    padding: 1em;\n",
    "    box-sizing: border-box;\n",
    "    background: #f8f9fa;\n",
    "    font-family: Arial, sans-serif;\n",
    "  }}\n",
    "  #bottom {{\n",
    "    height: 50%;\n",
    "  }}\n",
    "</style>\n",
    "<link rel=\"stylesheet\" href=\"https://cdnjs.cloudflare.com/ajax/libs/font-awesome/4.7.0/css/font-awesome.min.css\">\n",
    "</head>\n",
    "<body>\n",
    "  <div id=\"top\">\n",
    "    {md_html}\n",
    "  </div>\n",
    "  <div id=\"bottom\">\n",
    "    {map_html}\n",
    "  </div>\n",
    "</body>\n",
    "</html>\n",
    "\"\"\"\n",
    "\n",
    "with open(\"kaliningrad_oelquellen.html\", \"w\", encoding=\"utf-8\") as f:\n",
    "    f.write(full_html)\n"
   ]
  }
 ],
 "metadata": {
  "kernelspec": {
   "display_name": ".venv",
   "language": "python",
   "name": "python3"
  },
  "language_info": {
   "codemirror_mode": {
    "name": "ipython",
    "version": 3
   },
   "file_extension": ".py",
   "mimetype": "text/x-python",
   "name": "python",
   "nbconvert_exporter": "python",
   "pygments_lexer": "ipython3",
   "version": "3.11.9"
  }
 },
 "nbformat": 4,
 "nbformat_minor": 5
}
